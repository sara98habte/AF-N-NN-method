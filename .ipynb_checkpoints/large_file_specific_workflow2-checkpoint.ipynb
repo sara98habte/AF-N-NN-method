{
 "cells": [
  {
   "cell_type": "code",
   "execution_count": 1,
   "id": "addfae12-e7f3-4c5b-8722-3cbb47aaca3e",
   "metadata": {},
   "outputs": [],
   "source": [
    "import numpy as np\n",
    "import scipy as sp\n",
    "import matplotlib.pyplot as plt\n",
    "from matplotlib import animation\n",
    "from aicsimageio import AICSImage as imio\n",
    "from alive_progress import alive_bar\n",
    "import cv2\n",
    "from ipywidgets import interact\n",
    "import ipywidgets as widgets"
   ]
  },
  {
   "cell_type": "code",
   "execution_count": 2,
   "id": "f4b5edc9-68d3-4e78-baaa-f697ecb0b23a",
   "metadata": {},
   "outputs": [],
   "source": [
    "sourcepath = \"C:\\\\Temp\\\\Testdata\\\\AF\\\\2.5inch_LaserDiode\\\\20231023_2.5inch_50um_1um_2ms\\\\stack\\\\stack_MMStack_Default.ome.tif\""
   ]
  },
  {
   "cell_type": "markdown",
   "id": "434c1ad6-aa9e-498c-b6e7-b84efbeac3cb",
   "metadata": {},
   "source": [
    "# Explanation\n",
    "## Loaded raw images are processed as follows:\n",
    "#### Temporary placeholder figure is set up\n",
    "### Stack operations\n",
    "#### Stack MIP for background subtraction\n",
    "### Slice operations\n",
    "#### Use selection of squaring or power dependent gaussian on 2D background-subtracted slice\n",
    "#### Take either the maximum, mean or minimum intensity projection or the top n% of pixels along the projection direction\n",
    "### Line operations\n",
    "#### Apply S-G or median filter\n",
    "#### Optionally do FFT, or just get a peak number of pixels for an intensity measurement\n",
    "#### Obtain the roots to get FWHM or just use the intensity measurement\n",
    "### Graph results\n",
    "#### Allow for batch processing as well"
   ]
  },
  {
   "cell_type": "code",
   "execution_count": 3,
   "id": "80dbc0c9-9ddd-4e90-bc75-5d21974efda3",
   "metadata": {},
   "outputs": [
    {
     "name": "stderr",
     "output_type": "stream",
     "text": [
      "<tifffile.TiffPage 0 @13951> <tifffile.TiffTag 50839 @14133> invalid value offset 0\n",
      "<tifffile.TiffPage 0 @13951> <tifffile.TiffTag 50839 @14133> invalid value offset 0\n",
      "<tifffile.TiffPage 0 @13951> <tifffile.TiffTag 50839 @14133> invalid value offset 0\n",
      "<tifffile.TiffPage 0 @13951> <tifffile.TiffTag 50839 @14133> invalid value offset 0\n",
      "<tifffile.read_micromanager_metadata> failed to read display settings: invalid display_header 0\n",
      "<tifffile.TiffPages @13951> invalid page offset 321139304\n",
      "<tifffile.TiffPage 0 @13951> <tifffile.TiffTag 50839 @14133> invalid value offset 0\n",
      "<tifffile.read_micromanager_metadata> failed to read display settings: invalid display_header 0\n",
      "<tifffile.TiffPages @13951> invalid page offset 321139304\n",
      "<tifffile.TiffPage 0 @13951> <tifffile.TiffTag 50839 @14133> invalid value offset 0\n",
      "<tifffile.read_micromanager_metadata> failed to read display settings: invalid display_header 0\n",
      "<tifffile.TiffPages @13951> invalid page offset 321139304\n"
     ]
    }
   ],
   "source": [
    "#Load ops\n",
    "data_ref = imio(sourcepath).data\n",
    "datavol = np.asarray(np.squeeze(data_ref),dtype=np.int64)"
   ]
  },
  {
   "cell_type": "markdown",
   "id": "55820668-29ff-48f9-8a32-6c0d7f11059f",
   "metadata": {},
   "source": [
    "# General functions"
   ]
  },
  {
   "cell_type": "code",
   "execution_count": 4,
   "id": "e8f2dc57-6b77-4572-a88d-6dceceaedafe",
   "metadata": {
    "jupyter": {
     "source_hidden": true
    }
   },
   "outputs": [],
   "source": [
    "def rescale(np_arr_in,new_min,new_max):\n",
    "    rescaled = ((new_max-new_min)*(np_arr_in-np.min(np_arr_in))/((np.max(np_arr_in)-np.min(np_arr_in))))+new_min\n",
    "    return rescaled"
   ]
  },
  {
   "cell_type": "markdown",
   "id": "1f63b152-d9e8-4e91-8fa0-4792b4dc0a18",
   "metadata": {},
   "source": [
    "# Stack functions"
   ]
  },
  {
   "cell_type": "code",
   "execution_count": 5,
   "id": "c386759e-8e64-4ea2-bbbe-93c25abcfc6d",
   "metadata": {},
   "outputs": [],
   "source": [
    "def proj_process(method,which_axis,stack):\n",
    "    slices = range(np.shape(stack)[0])\n",
    "    sequence=[]\n",
    "    for slicenum in slices:\n",
    "        sequence.append(project(method,which_axis,stack[slicenum,:,:]))\n",
    "    return sequence"
   ]
  },
  {
   "cell_type": "code",
   "execution_count": 6,
   "id": "df88ca49-a438-4259-9642-395d604043ba",
   "metadata": {},
   "outputs": [],
   "source": [
    "def lazy_project(method,data_ref):\n",
    "    n_slices = data_ref.shape[2]\n",
    "    all_slices = range(n_slices)\n",
    "    running_img = getslice(0)\n",
    "    with alive_bar(n_slices,force_tty=True, title = \"Lazy projecting...\") as proj_progbar:\n",
    "        for slice in all_slices:\n",
    "            this_slice = getslice(slice)\n",
    "            match method:\n",
    "                case \"min\":\n",
    "                    running_img = np.minimum(this_slice,running_img)\n",
    "                case \"max\":\n",
    "                    running_img = np.maximum(this_slice,running_img)\n",
    "                case \"mean\":\n",
    "                    running_img = running_img+this_slice\n",
    "                case \"sum\":\n",
    "                    running_img = running_img+this_slice\n",
    "            proj_progbar()\n",
    "        if(method==\"mean\"):\n",
    "            running_img = running_img/n_slices\n",
    "    return running_img"
   ]
  },
  {
   "cell_type": "markdown",
   "id": "3ba1774a-a05b-47a8-bbea-f9b5e55a4c18",
   "metadata": {},
   "source": [
    "# Slice functions"
   ]
  },
  {
   "cell_type": "code",
   "execution_count": 7,
   "id": "d4d0aab3-ecd6-4ac0-b091-b4b5fc902a03",
   "metadata": {},
   "outputs": [],
   "source": [
    "def getslice(slicenum):\n",
    "    return np.squeeze(data_ref[0,0,slicenum,:,:]).astype(float)"
   ]
  },
  {
   "cell_type": "code",
   "execution_count": 8,
   "id": "60ef9689-f57a-4403-a9c1-1fdb5c7cd518",
   "metadata": {
    "jupyter": {
     "source_hidden": true
    }
   },
   "outputs": [],
   "source": [
    "def project(method, which_axis, data):\n",
    "    proj = None\n",
    "    dirn = 0\n",
    "    match which_axis:\n",
    "        case \"X\":\n",
    "            dirn = 0\n",
    "        case \"Y\":\n",
    "            dirn = 1\n",
    "        case _:\n",
    "            dirn = 0\n",
    "    match method:\n",
    "        case \"min\":\n",
    "            proj = np.min(data,axis=dirn)\n",
    "        case \"max\":\n",
    "            proj = np.max(data,axis=dirn)\n",
    "        case \"mean\":\n",
    "            proj = np.mean(data,axis=dirn)\n",
    "        case \"sum\":\n",
    "            proj = np.sum(data,axis=dirn)\n",
    "        case \"top 50\":\n",
    "            num_pixels = 50\n",
    "            sorted = np.sort(data,kind='mergesort',axis=dirn)\n",
    "            if(dirn>0):\n",
    "                sorted = np.transpose(sorted)\n",
    "            sorted = sorted[0-num_pixels:]\n",
    "            print(np.shape(sorted))\n",
    "            proj = np.mean(sorted,axis=0)\n",
    "        \n",
    "    return proj.astype(float)"
   ]
  },
  {
   "cell_type": "markdown",
   "id": "08b1c4c9-d105-4204-9410-3a09fd6f287d",
   "metadata": {},
   "source": [
    "# Line functions"
   ]
  },
  {
   "cell_type": "code",
   "execution_count": 9,
   "id": "8dc510a2-6190-4ac9-97d3-fba4c12eeb99",
   "metadata": {
    "jupyter": {
     "source_hidden": true
    }
   },
   "outputs": [],
   "source": [
    "def getroots_FWHM(vect):\n",
    "    peak = max(vect)\n",
    "    vall = min(vect)\n",
    "    spline = sp.interpolate.UnivariateSpline(np.arange(0,int(len(vect)),1), vect-((peak+vall)/2), s=0)\n",
    "    roots = spline.roots()\n",
    "    #print(roots)\n",
    "    return np.min(roots),np.max(roots)"
   ]
  },
  {
   "cell_type": "code",
   "execution_count": 10,
   "id": "94dfffd5-a9e0-4b01-a779-8684a9cc734e",
   "metadata": {
    "jupyter": {
     "source_hidden": true
    }
   },
   "outputs": [],
   "source": [
    "def filter_line(line_in, **kwargs):\n",
    "    # See explanation above for order of operations\n",
    "    line_current = line_in\n",
    "    if 'square' in kwargs:\n",
    "        if kwargs.get('square')==True:\n",
    "            line_current = line_current*line_current\n",
    "        \n",
    "    return line_current"
   ]
  },
  {
   "cell_type": "markdown",
   "id": "835ce14c-32f6-4c20-a8cb-8487cc281a33",
   "metadata": {},
   "source": [
    "# Graphing functions"
   ]
  },
  {
   "cell_type": "code",
   "execution_count": 11,
   "id": "906f75e3-0689-471c-996a-cef472428551",
   "metadata": {},
   "outputs": [
    {
     "data": {
      "text/plain": [
       "'\\ndef overlay_proj(fig,ax,imgpixels_ref,methods,colours,image,xplt,yplt,extra_line,extra_vals):\\n    scaling_frac = 0.4\\n    idx = 0;\\n    #plt.clf()\\n    for method in methods:\\n        imgpixels_ref.set_array(image)\\n        #imgpixels_ref.set_clim(0,5000)\\n        scaled_x_profile = rescale(project(method,\"X\",image),0,scaling_frac*n_x_px)\\n        scaled_y_profile = rescale(project(method,\"Y\",image),0,scaling_frac*n_y_px)\\n        xplt.set_ydata(scaled_x_profile)\\n        yplt.set_xdata(scaled_y_profile)\\n        idx = idx+1\\n    #Add extra line\\n    if(extra_vals is None):\\n        pass\\n    else:\\n        if(extra_vals.size == imgpixels_ref.get_array().shape[0]):\\n            #Along X\\n            extra_line.set_ydata(range(imgpixels_ref.get_array().shape[0]))\\n            extra_line.set_xdata((extra_vals/np.max(extra_vals))*(scaling_frac*imgpixels_ref.get_array().shape[1]))\\n            print(imgpixels_ref.get_array().shape[0])\\n        else:\\n            #Along Y\\n            extra_line.set_xdata(range(imgpixels_ref.get_array().shape[1]))\\n            extra_line.set_ydata((extra_vals/np.max(extra_vals))*(scaling_frac*imgpixels_ref.get_array().shape[0]))\\n    plt.draw()\\n'"
      ]
     },
     "execution_count": 11,
     "metadata": {},
     "output_type": "execute_result"
    }
   ],
   "source": [
    "'''\n",
    "def overlay_proj(fig,ax,imgpixels_ref,methods,colours,image,xplt,yplt,extra_line,extra_vals):\n",
    "    scaling_frac = 0.4\n",
    "    idx = 0;\n",
    "    #plt.clf()\n",
    "    for method in methods:\n",
    "        imgpixels_ref.set_array(image)\n",
    "        #imgpixels_ref.set_clim(0,5000)\n",
    "        scaled_x_profile = rescale(project(method,\"X\",image),0,scaling_frac*n_x_px)\n",
    "        scaled_y_profile = rescale(project(method,\"Y\",image),0,scaling_frac*n_y_px)\n",
    "        xplt.set_ydata(scaled_x_profile)\n",
    "        yplt.set_xdata(scaled_y_profile)\n",
    "        idx = idx+1\n",
    "    #Add extra line\n",
    "    if(extra_vals is None):\n",
    "        pass\n",
    "    else:\n",
    "        if(extra_vals.size == imgpixels_ref.get_array().shape[0]):\n",
    "            #Along X\n",
    "            extra_line.set_ydata(range(imgpixels_ref.get_array().shape[0]))\n",
    "            extra_line.set_xdata((extra_vals/np.max(extra_vals))*(scaling_frac*imgpixels_ref.get_array().shape[1]))\n",
    "            print(imgpixels_ref.get_array().shape[0])\n",
    "        else:\n",
    "            #Along Y\n",
    "            extra_line.set_xdata(range(imgpixels_ref.get_array().shape[1]))\n",
    "            extra_line.set_ydata((extra_vals/np.max(extra_vals))*(scaling_frac*imgpixels_ref.get_array().shape[0]))\n",
    "    plt.draw()\n",
    "'''"
   ]
  },
  {
   "cell_type": "markdown",
   "id": "6513e00a-6826-4a10-840f-e3c37332227f",
   "metadata": {},
   "source": [
    "# Analysis functions"
   ]
  },
  {
   "cell_type": "code",
   "execution_count": 20,
   "id": "acfff5c0-f7b7-403d-a9cc-a7eb6a3b2aad",
   "metadata": {},
   "outputs": [],
   "source": [
    "def setup_plot():\n",
    "    # Setup for live plot\n",
    "    fig_1 = plt.figure(figsize=(15,4))\n",
    "    f_1A = fig_1.add_subplot(1,3,1)\n",
    "    imgpixels_ref = f_1A.imshow(tmp_img,cmap='gray',vmin=0,vmax=np.max(getslice(0)))\n",
    "    n_y_px,n_x_px = tmp_img.shape[0],tmp_img.shape[1]\n",
    "    scaling_frac = 0.4\n",
    "    \n",
    "    scaled_x_profile = rescale(project(\"max\",\"X\",tmp_img),0,scaling_frac*n_x_px)\n",
    "    scaled_y_profile = rescale(project(\"max\",\"Y\",tmp_img),0,scaling_frac*n_y_px)\n",
    "    xplt, = f_1A.plot(scaled_x_profile,color='r')\n",
    "    #Little fudge to get the plot along y-x, not x-y\n",
    "    yplt, = f_1A.plot(scaled_y_profile,color='b')\n",
    "    extra_line, = f_1A.plot([0,0],color='g')\n",
    "    newy = yplt.get_xdata()\n",
    "    newx = yplt.get_ydata()\n",
    "    yplt.set_xdata(newx)\n",
    "    yplt.set_ydata(newy)\n",
    "    \n",
    "    #Setup for processed plot\n",
    "    f_1B = fig_1.add_subplot(1,3,2)\n",
    "    f_1B.set_xlim(0,nslices-1)\n",
    "    f_1B.set_xlabel(\"Slice\")\n",
    "    f_1B.set_ylabel(\"Normalised metric value\")\n",
    "    slice_indicator = f_1B.axvline(0,0,1,linestyle=\":\")\n",
    "    proc_method=\"Evaluations\"\n",
    "    f_1B.set_title(proc_method)\n",
    "    return [f_1A,f_1B,imgpixels_ref,xplt,yplt,extra_line,slice_indicator]"
   ]
  },
  {
   "cell_type": "code",
   "execution_count": 13,
   "id": "cc9cbc25-8736-45ac-9953-8db167a0278c",
   "metadata": {},
   "outputs": [
    {
     "name": "stdout",
     "output_type": "stream",
     "text": [
      "Lazy projecting... |████████████████████████████████████████| 51/51 [100%] in 1.\n"
     ]
    }
   ],
   "source": [
    "stored_bg = lazy_project(\"min\",data_ref)"
   ]
  },
  {
   "cell_type": "code",
   "execution_count": 14,
   "id": "92b879b6-4922-499b-b8d0-fed5832c7fca",
   "metadata": {},
   "outputs": [],
   "source": [
    "def filt_SG(line_in,scale):\n",
    "    filtered_line = sp.ndimage.uniform_filter1d(line_in,size=scale, mode='nearest')\n",
    "    return filtered_line\n",
    "\n",
    "def filt_median(line_in,scale):\n",
    "    filtered_line = proj_line = sp.signal.medfilt(line_in,scale)\n",
    "    return filtered_line\n",
    "\n",
    "def take_FFT(line_in):\n",
    "    filtered_line = np.roll(np.abs(np.fft.fft(line_in)),int(len(line_in)/2))\n",
    "    return filtered_line"
   ]
  },
  {
   "cell_type": "code",
   "execution_count": 15,
   "id": "da86f94e-5109-4f50-83d9-201ae7b081be",
   "metadata": {},
   "outputs": [],
   "source": [
    "def proc_img(settings_info,bg_sub,square_px,raw_image):\n",
    "    output_image = raw_image\n",
    "    if(bg_sub):\n",
    "        output_image = raw_image-stored_bg\n",
    "        settings_info = settings_info+\"bgsub, \"\n",
    "    if(square_px):\n",
    "        output_image = output_image*output_image\n",
    "        settings_info+=\"img sq, \"\n",
    "    \n",
    "    return settings_info,output_image"
   ]
  },
  {
   "cell_type": "code",
   "execution_count": 16,
   "id": "305357b1-73a1-4faa-9b79-5a723daa18f3",
   "metadata": {},
   "outputs": [],
   "source": [
    "def proc_line(img_to_process,settings_info,method,square_ln,metric_target_axis,filt_scale,filt_type,percent_to_evaluate,line_smoothing,do_FFT_on_lines,suppress_FFT_spike):\n",
    "    output_image = img_to_process\n",
    "    raw_x_profile = project(method,\"X\",output_image)\n",
    "    raw_y_profile = project(method,\"Y\",output_image)\n",
    "    processed_x = raw_x_profile \n",
    "    processed_y = raw_y_profile\n",
    "    \n",
    "    if(square_ln):\n",
    "        processed_x = processed_x*processed_x\n",
    "        processed_y = processed_x*processed_x\n",
    "        settings_info+=\"ln sq, \"\n",
    "\n",
    "    ### Add aspect ratio for x and y filters? Not necessary for metric evaluation though\n",
    "    if(filt_scale>0):\n",
    "        match filt_type:\n",
    "            case \"Savitzky-Golay\":\n",
    "                processed_x = filt_SG(processed_x,filt_scale)\n",
    "                processed_y = filt_SG(processed_y,filt_scale)\n",
    "            case \"Median\":\n",
    "                processed_x = filt_median(processed_x,filt_scale)\n",
    "                processed_y = filt_median(processed_y,filt_scale)\n",
    "            case \"S-G then median\":\n",
    "                processed_x = filt_SG(processed_x,filt_scale)\n",
    "                processed_x = filt_median(processed_x,filt_scale)\n",
    "                processed_y = filt_SG(processed_y,filt_scale)\n",
    "                processed_y = filt_median(processed_y,filt_scale)\n",
    "        settings_info+=filt_type+\", scale \"+str(filt_scale)+\", \"\n",
    "\n",
    "    extra_vals = None\n",
    "    \n",
    "    if(do_FFT_on_lines):\n",
    "        settings_info+=\"\\n FFT\"\n",
    "        if(metric_target_axis == \"X\"):\n",
    "            extra_vals = take_FFT(processed_x)\n",
    "        else:\n",
    "            extra_vals = take_FFT(processed_y)\n",
    "        if(suppress_FFT_spike):\n",
    "            extra_vals = filt_median(extra_vals,5)\n",
    "            settings_info+=\"(supp)\"\n",
    "        settings_info+=\", \"\n",
    "    \n",
    "    return settings_info,processed_x,processed_y,extra_vals"
   ]
  },
  {
   "cell_type": "code",
   "execution_count": 17,
   "id": "b4217219-e2e7-4fe9-b5fa-bbd9e72be989",
   "metadata": {},
   "outputs": [],
   "source": [
    "def eval_metric(line_in,metric_evaluation):\n",
    "    return 5"
   ]
  },
  {
   "cell_type": "code",
   "execution_count": 18,
   "id": "b034d3ae-a1b9-4572-8cbc-624ac89180e6",
   "metadata": {},
   "outputs": [],
   "source": [
    "def proc_slice(slicenum,method,square_px,square_ln,autoscale_img,bg_sub,metric_target_axis,filt_scale,filt_type,metric_evaluation,percent_to_evaluate,line_smoothing,do_FFT_on_lines,suppress_FFT_spike):\n",
    "    profile_01 = None\n",
    "    profile_02 = None\n",
    "    metric_value = None\n",
    "    scaling_frac = 0.4\n",
    "    \n",
    "    settings_info = method+\" proj, \"\n",
    "\n",
    "    # Image level operations ===========================================================================\n",
    "    output_image = raw_image = getslice(slicenum)\n",
    "    n_x_px = output_image.shape[0]\n",
    "    n_y_px = output_image.shape[1]\n",
    "    settings_info,output_image = proc_img(settings_info,bg_sub,square_px,raw_image)\n",
    "\n",
    "    # Profile level operations =========================================================================\n",
    "    settings_info,x_profile,y_profile,extra_profile = proc_line(output_image,settings_info,method,square_ln,metric_target_axis,filt_scale,filt_type,percent_to_evaluate,line_smoothing,do_FFT_on_lines,suppress_FFT_spike)\n",
    "\n",
    "    # Metric evaluation ================================================================================\n",
    "    # ADD AXIS SELECTION HERE\n",
    "    metric_value = eval_metric(metric_evaluation,x_profile)\n",
    "\n",
    "    # Display operations ===============================================================================\n",
    "    scaled_x_profile = rescale(x_profile,0,scaling_frac*n_x_px)\n",
    "    scaled_y_profile = rescale(y_profile,0,scaling_frac*n_y_px)\n",
    "    xplt.set_ydata(scaled_x_profile)\n",
    "    yplt.set_xdata(scaled_y_profile)\n",
    "\n",
    "    if(extra_profile is None):\n",
    "        extra_profile = np.zeros(n_x_px)\n",
    "    if(extra_profile.size == imgpixels_ref.get_array().shape[0]):\n",
    "        #Along X\n",
    "        extra_line.set_ydata(range(imgpixels_ref.get_array().shape[0]))\n",
    "        extra_line.set_xdata(rescale(extra_profile,0,scaling_frac*n_y_px))\n",
    "        print(imgpixels_ref.get_array().shape[0])\n",
    "    else:\n",
    "        #Along Y\n",
    "        extra_line.set_xdata(range(imgpixels_ref.get_array().shape[1]))\n",
    "        extra_line.set_ydata(rescale(extra_profile,0,scaling_frac*n_x_px))\n",
    "    \n",
    "    imgpixels_ref.set_array(output_image)\n",
    "    f_1A.set_title(settings_info)\n",
    "    if(autoscale_img == True):\n",
    "        imgpixels_ref.set_clim(np.min(output_image),np.max(output_image))\n",
    "    plt.draw()\n",
    "    \n",
    "    return output_image, profile_01, profile_02, metric_value, settings_info"
   ]
  },
  {
   "cell_type": "code",
   "execution_count": 21,
   "id": "9a12c90b-bccb-446d-9bb4-d2420f3daf74",
   "metadata": {},
   "outputs": [
    {
     "ename": "NameError",
     "evalue": "name 'tmp_img' is not defined",
     "output_type": "error",
     "traceback": [
      "\u001b[1;31m---------------------------------------------------------------------------\u001b[0m",
      "\u001b[1;31mNameError\u001b[0m                                 Traceback (most recent call last)",
      "Cell \u001b[1;32mIn[21], line 14\u001b[0m\n\u001b[0;32m      4\u001b[0m \u001b[38;5;124;03m'''\u001b[39;00m\n\u001b[0;32m      5\u001b[0m \u001b[38;5;124;03mtarg_ax = \"Y\"\u001b[39;00m\n\u001b[0;32m      6\u001b[0m \u001b[38;5;124;03mtmp_img = getslice(0)\u001b[39;00m\n\u001b[1;32m   (...)\u001b[0m\n\u001b[0;32m     10\u001b[0m \u001b[38;5;124;03mnslices = datavol.shape[0]\u001b[39;00m\n\u001b[0;32m     11\u001b[0m \u001b[38;5;124;03m'''\u001b[39;00m\n\u001b[0;32m     12\u001b[0m arb_max \u001b[38;5;241m=\u001b[39m \u001b[38;5;241m101\u001b[39m\n\u001b[1;32m---> 14\u001b[0m f_1A,f_1B,imgpixels_ref,xplt,yplt,extra_line,slice_indicator \u001b[38;5;241m=\u001b[39m setup_plot()\n\u001b[0;32m     16\u001b[0m \u001b[38;5;66;03m# Declare controls ===============================================================\u001b[39;00m\n\u001b[0;32m     17\u001b[0m slicenum \u001b[38;5;241m=\u001b[39m widgets\u001b[38;5;241m.\u001b[39mIntSlider(description\u001b[38;5;241m=\u001b[39m\u001b[38;5;124m\"\u001b[39m\u001b[38;5;124mSlice\u001b[39m\u001b[38;5;124m\"\u001b[39m, \u001b[38;5;28mmin\u001b[39m\u001b[38;5;241m=\u001b[39m\u001b[38;5;241m0\u001b[39m, \u001b[38;5;28mmax\u001b[39m\u001b[38;5;241m=\u001b[39mnslices\u001b[38;5;241m-\u001b[39m\u001b[38;5;241m1\u001b[39m, value\u001b[38;5;241m=\u001b[39m\u001b[38;5;241m25\u001b[39m)\n",
      "Cell \u001b[1;32mIn[20], line 5\u001b[0m, in \u001b[0;36msetup_plot\u001b[1;34m()\u001b[0m\n\u001b[0;32m      3\u001b[0m fig_1 \u001b[38;5;241m=\u001b[39m plt\u001b[38;5;241m.\u001b[39mfigure(figsize\u001b[38;5;241m=\u001b[39m(\u001b[38;5;241m15\u001b[39m,\u001b[38;5;241m4\u001b[39m))\n\u001b[0;32m      4\u001b[0m f_1A \u001b[38;5;241m=\u001b[39m fig_1\u001b[38;5;241m.\u001b[39madd_subplot(\u001b[38;5;241m1\u001b[39m,\u001b[38;5;241m3\u001b[39m,\u001b[38;5;241m1\u001b[39m)\n\u001b[1;32m----> 5\u001b[0m imgpixels_ref \u001b[38;5;241m=\u001b[39m f_1A\u001b[38;5;241m.\u001b[39mimshow(tmp_img,cmap\u001b[38;5;241m=\u001b[39m\u001b[38;5;124m'\u001b[39m\u001b[38;5;124mgray\u001b[39m\u001b[38;5;124m'\u001b[39m,vmin\u001b[38;5;241m=\u001b[39m\u001b[38;5;241m0\u001b[39m,vmax\u001b[38;5;241m=\u001b[39mnp\u001b[38;5;241m.\u001b[39mmax(getslice(\u001b[38;5;241m0\u001b[39m)))\n\u001b[0;32m      6\u001b[0m n_y_px,n_x_px \u001b[38;5;241m=\u001b[39m tmp_img\u001b[38;5;241m.\u001b[39mshape[\u001b[38;5;241m0\u001b[39m],tmp_img\u001b[38;5;241m.\u001b[39mshape[\u001b[38;5;241m1\u001b[39m]\n\u001b[0;32m      7\u001b[0m scaling_frac \u001b[38;5;241m=\u001b[39m \u001b[38;5;241m0.4\u001b[39m\n",
      "\u001b[1;31mNameError\u001b[0m: name 'tmp_img' is not defined"
     ]
    },
    {
     "data": {
      "application/vnd.jupyter.widget-view+json": {
       "model_id": "b9e3464ffbde4c02b97027630a93386d",
       "version_major": 2,
       "version_minor": 0
      },
      "image/png": "[encoded data removed]",
      "text/html": [
       "\n",
       "            <div style=\"display: inline-block;\">\n",
       "                <div class=\"jupyter-widgets widget-label\" style=\"text-align: center;\">\n",
       "                    Figure\n",
       "                </div>\n",
       "                <img src='data:image/png;base64,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' width=1500.0/>\n",
       "            </div>\n",
       "        "
      ],
      "text/plain": [
       "Canvas(toolbar=Toolbar(toolitems=[('Home', 'Reset original view', 'home', 'home'), ('Back', 'Back to previous …"
      ]
     },
     "metadata": {},
     "output_type": "display_data"
    }
   ],
   "source": [
    "%matplotlib widget\n",
    "\n",
    "# Define some defaults ===========================================================\n",
    "'''\n",
    "targ_ax = \"Y\"\n",
    "tmp_img = getslice(0)\n",
    "lin_vmax = np.max(datavol)\n",
    "sq_vmax = lin_vmax*lin_vmax\n",
    "bg_img = proj = np.min(datavol,axis=0)\n",
    "nslices = datavol.shape[0]\n",
    "'''\n",
    "arb_max = 101\n",
    "\n",
    "f_1A,f_1B,imgpixels_ref,xplt,yplt,extra_line,slice_indicator = setup_plot()\n",
    "\n",
    "# Declare controls ===============================================================\n",
    "slicenum = widgets.IntSlider(description=\"Slice\", min=0, max=nslices-1, value=25)\n",
    "proj_meth = widgets.Dropdown(options=[\"max\",\"min\",\"mean\",\"top 50\"], description='Method')\n",
    "square_img = widgets.Checkbox(False, description='Square raw img')\n",
    "square_ln = widgets.Checkbox(False, description='Square projection')\n",
    "bg_sub = widgets.Checkbox(True, description='Subtract background')\n",
    "scale_it = widgets.Checkbox(True, description='Scale display intensity')\n",
    "targ_ax = widgets.Dropdown(options=[\"X\",\"Y\"], description='Metric axis')\n",
    "filt_scale = widgets.IntSlider(description=\"Filter scale\", min=-1, max=arb_max, value=5, step = 2)\n",
    "filt_type = widgets.Dropdown(options=[\"Savitzky-Golay\",\"Median\",\"S-G then median\"], description='Filter type')\n",
    "do_FFT = widgets.Checkbox(True, description='Do FFT on lines')\n",
    "suppress_FFT_spike = widgets.Checkbox(True, description='Suppress FFT spike')\n",
    "metric_evaluation = widgets.Dropdown(options=[\"Extreme roots\",\"stdev of line\", \"Peak of line\", \"Top % of line\"], description='Metric evaluation method')\n",
    "eval_pct = widgets.FloatSlider(description=\"% of line to consider\", min=-0.2, max=5, step=0.1, value=-0.2, readout_format='.1f')\n",
    "line_smoothing = widgets.Dropdown(options=[\"As set here\",\"Adaptive\", \"None\"], description='Line smoothing method')\n",
    "run_proc = widgets.Button(description = 'Process all slices')\n",
    "clear_disp = widgets.Button(description = 'Clear graphs')\n",
    "\n",
    "# Arrange controls ===============================================================\n",
    "nrows = 4\n",
    "ncols = 4\n",
    "control_list = [slicenum, proj_meth, square_img, square_ln, filt_scale, filt_type, bg_sub, scale_it, eval_pct, metric_evaluation, do_FFT, suppress_FFT_spike, run_proc,targ_ax, line_smoothing, clear_disp]\n",
    "grid = widgets.GridspecLayout(nrows, ncols)\n",
    "for i in range(nrows):\n",
    "    for j in range(ncols):\n",
    "        if((ncols*i)+j<len(control_list)):\n",
    "            grid[i, j] = control_list[(ncols*i)+j]\n",
    "ui = grid\n",
    "\n",
    "# Define button actions ==========================================================\n",
    "@run_proc.on_click\n",
    "def run_clicked(run_proc):\n",
    "    with alive_bar(nslices,force_tty=True, title = \"Processing metric\") as metric_progbar:\n",
    "        metric = []\n",
    "        for slice in range(nslices):\n",
    "            proc_slice(slicenum.value,proj_meth.value,square_img.value,square_ln.value,scale_it.value,bg_sub.value,targ_ax.value,filt_scale.value,filt_type.value,metric_evaluation.value,eval_pct.value,line_smoothing.value,do_FFT.value,suppress_FFT_spike.value)\n",
    "            val = 5\n",
    "            settings = \"Placeholder\"\n",
    "            metric.append()\n",
    "            metric_progbar()\n",
    "        scaled_metric = metric\n",
    "        #scaled_metric = (metric - np.min(metric)) / (np.max(metric) - np.min(metric))\n",
    "        f_1B.plot(scaled_metric,label=settings)\n",
    "        f_1B.legend(loc='center right', bbox_to_anchor=(2.2, 0.5))\n",
    "\n",
    "@clear_disp.on_click\n",
    "def clear_clicked(clear_disp):\n",
    "    f_1B.cla()\n",
    "    f_1B.set_title(\"Evaluations\")\n",
    "    f_1B.set_xlabel(\"Slice\")\n",
    "    f_1B.set_ylabel(\"Normalised metric value\")\n",
    "    slice_indicator = f_1B.axvline(0,0,1,linestyle=\":\")\n",
    "\n",
    "# Show controls and interact ======================================================\n",
    "out = widgets.interactive_output(proc_slice, {'slicenum': slicenum, 'method': proj_meth, 'square_px':square_img, 'square_ln':square_ln, 'autoscale_img':scale_it, 'bg_sub':bg_sub, 'metric_target_axis':targ_ax, 'filt_scale':filt_scale, 'filt_type':filt_type, 'metric_evaluation':metric_evaluation, 'percent_to_evaluate':eval_pct, 'line_smoothing':line_smoothing, 'do_FFT_on_lines':do_FFT, 'suppress_FFT_spike':suppress_FFT_spike})\n",
    "display(ui, out)"
   ]
  },
  {
   "cell_type": "code",
   "execution_count": null,
   "id": "ea09d504-57f9-4181-985b-2cec4ee4b573",
   "metadata": {},
   "outputs": [],
   "source": []
  },
  {
   "cell_type": "code",
   "execution_count": null,
   "id": "3594ce50-dd58-4dbf-8d1a-0f59ec4a3274",
   "metadata": {},
   "outputs": [],
   "source": []
  }
 ],
 "metadata": {
  "kernelspec": {
   "display_name": "Python 3 (ipykernel)",
   "language": "python",
   "name": "python3"
  },
  "language_info": {
   "codemirror_mode": {
    "name": "ipython",
    "version": 3
   },
   "file_extension": ".py",
   "mimetype": "text/x-python",
   "name": "python",
   "nbconvert_exporter": "python",
   "pygments_lexer": "ipython3",
   "version": "3.11.5"
  }
 },
 "nbformat": 4,
 "nbformat_minor": 5
}
